{
 "cells": [
  {
   "cell_type": "code",
   "execution_count": 2,
   "metadata": {},
   "outputs": [],
   "source": [
    "#import findspark\n",
    "#findspark.init()\n",
    "import pyspark\n",
    "from pyspark.sql import SQLContext \n",
    "from pyspark.sql.types import * \n",
    "from textblob import TextBlob\n",
    "from pyspark.sql.functions import rand,lit,udf,trim,length,explode\n",
    "import numpy as np\n",
    "from pyspark.ml.classification import NaiveBayes, NaiveBayesModel\n",
    "from pyspark.ml import Pipeline\n",
    "from pyspark.ml.feature import HashingTF, Tokenizer,IDF,CountVectorizer\n",
    "from nltk.corpus import stopwords\n",
    "import re\n",
    "from pyspark.ml.feature import CountVectorizer, Tokenizer, StopWordsRemover\n",
    "from pyspark import SparkConf\n",
    "from pyspark.context import SparkContext\n",
    "import seaborn as sns\n",
    "import matplotlib.pyplot as plt\n",
    "from pyspark.ml.evaluation import BinaryClassificationEvaluator, MulticlassClassificationEvaluator\n",
    "from pyspark.mllib.evaluation import BinaryClassificationMetrics\n",
    "from nltk.stem.porter import *"
   ]
  },
  {
   "cell_type": "code",
   "execution_count": null,
   "metadata": {},
   "outputs": [],
   "source": [
    "sc = SparkContext()\n",
    "sqlContext = SQLContext(sc)"
   ]
  },
  {
   "cell_type": "code",
   "execution_count": 3,
   "metadata": {},
   "outputs": [],
   "source": [
    "df = (sqlContext.read.format(\"csv\").options(header=\"true\").option(\"quote\",\"\\\"\").option(\"escape\",\"\\\"\").option(\"multiLine\", \"true\").load(\"/home/apalisetty1/data/2020-04-14 Coronavirus Tweets.CSV\"))\n",
    "df.createOrReplaceTempView(\"tweets\")"
   ]
  },
  {
   "cell_type": "code",
   "execution_count": 4,
   "metadata": {},
   "outputs": [
    {
     "name": "stdout",
     "output_type": "stream",
     "text": [
      "+-----+\n",
      "|  cnt|\n",
      "+-----+\n",
      "|17089|\n",
      "+-----+\n",
      "\n"
     ]
    }
   ],
   "source": [
    "#Get the count of all the tweets\n",
    "sqlContext.sql(\"select count(*) as cnt from tweets\").show()"
   ]
  },
  {
   "cell_type": "code",
   "execution_count": 5,
   "metadata": {},
   "outputs": [
    {
     "name": "stdout",
     "output_type": "stream",
     "text": [
      "+-------------------+----------+--------------------+------------+--------------------+---------+------------------+----------------+--------------------+--------+----------+----------------+-------------+------------+---------------+----------+---------------+-------------+------------+--------------------+--------+----+\n",
      "|          status_id|   user_id|          created_at| screen_name|                text|   source|reply_to_status_id|reply_to_user_id|reply_to_screen_name|is_quote|is_retweet|favourites_count|retweet_count|country_code|place_full_name|place_type|followers_count|friends_count|account_lang|  account_created_at|verified|lang|\n",
      "+-------------------+----------+--------------------+------------+--------------------+---------+------------------+----------------+--------------------+--------+----------+----------------+-------------+------------+---------------+----------+---------------+-------------+------------+--------------------+--------+----+\n",
      "|1249849852659478528|2722502906|2020-04-14T00:00:00Z|GradaNorteMX|#Columna Lunes de...|TweetDeck|              null|            null|                null|   FALSE|     FALSE|            1479|            1|        null|           null|      null|           1848|          253|        null|2014-08-10T21:20:32Z|   FALSE|  es|\n",
      "|1249849851736502277|  58606864|2020-04-14T00:00:00Z|  noroestemx|Ante la emergenci...|TweetDeck|              null|            null|                null|   FALSE|     FALSE|            3050|            0|        null|           null|      null|         127924|          446|        null|2009-07-20T22:08:51Z|   FALSE|  es|\n",
      "+-------------------+----------+--------------------+------------+--------------------+---------+------------------+----------------+--------------------+--------+----------+----------------+-------------+------------+---------------+----------+---------------+-------------+------------+--------------------+--------+----+\n",
      "only showing top 2 rows\n",
      "\n"
     ]
    }
   ],
   "source": [
    "df.show(2)"
   ]
  },
  {
   "cell_type": "code",
   "execution_count": 6,
   "metadata": {},
   "outputs": [],
   "source": [
    "#Function to define Subjectivity and Polarity\n",
    "def getSubjectivity(text):\n",
    "    return TextBlob(text).sentiment.subjectivity\n",
    "\n",
    "def getPolarity(text):\n",
    "    return TextBlob(text).sentiment.polarity"
   ]
  },
  {
   "cell_type": "code",
   "execution_count": 7,
   "metadata": {},
   "outputs": [],
   "source": [
    "#Function to label the tweet\n",
    "def label_data(polarity) :\n",
    "    if polarity ==0:\n",
    "        return 0\n",
    "    elif polarity >0:\n",
    "        return 1\n",
    "    elif polarity <0:\n",
    "        return 2"
   ]
  },
  {
   "cell_type": "code",
   "execution_count": 8,
   "metadata": {},
   "outputs": [],
   "source": [
    "#Function to clean the tweets\n",
    "def clean_text(text):\n",
    "    text=re.sub(r'@[A-Za-z0-9]+','',text).strip() #remove mentions\n",
    "    text=re.sub(r'#+','',text).strip() #removing #symbol\n",
    "    text=re.sub(r'RT[\\s]+','',text).strip()\n",
    "    text=re.sub(r'[?|$|.|!|;|:|&|\"|,|\"|\"|*|-|(|)]','',text).strip()\n",
    "    text = re.sub(r'http\\S+', '', text, flags=re.MULTILINE).strip()\n",
    "    text = re.sub(r'  ', ' ', text).strip()\n",
    "    return text"
   ]
  },
  {
   "cell_type": "code",
   "execution_count": 9,
   "metadata": {},
   "outputs": [],
   "source": [
    "#Function to Remove Emojis\n",
    "def remove_emoji(string):\n",
    "    emoji_pattern = re.compile(\"[\"\n",
    "                           u\"\\U0001F600-\\U0001F64F\"  # emoticons\n",
    "                           u\"\\U0001F300-\\U0001F5FF\"  # symbols & pictographs\n",
    "                           u\"\\U0001F680-\\U0001F6FF\"  # transport & map symbols\n",
    "                           u\"\\U0001F1E0-\\U0001F1FF\"  # flags (iOS)\n",
    "                           u\"\\U00002702-\\U000027B0\"\n",
    "                           u\"\\U000024C2-\\U0001F251\"\n",
    "                           \"]+\", flags=re.UNICODE)\n",
    "    return emoji_pattern.sub(r'', string)"
   ]
  },
  {
   "cell_type": "code",
   "execution_count": 10,
   "metadata": {},
   "outputs": [],
   "source": [
    "#Function to Remove Emojis\n",
    "def deEmojify(inputString):\n",
    "    return inputString.encode('ascii', 'ignore').decode('ascii')"
   ]
  },
  {
   "cell_type": "code",
   "execution_count": 11,
   "metadata": {},
   "outputs": [],
   "source": [
    "#Function which call all the texclean, remove emojis,polarity and labels the tweet\n",
    "def data_preprocess(t1):\n",
    "    clean_udf_str=udf(lambda z: clean_text(z), StringType())\n",
    "    df_pre_clean=t1.select(clean_udf_str('text_n').alias('text'))\n",
    "    emoji_udf_str=udf(lambda z: remove_emoji(z), StringType())\n",
    "    df_pre_rm_em=df_pre_clean.select(emoji_udf_str('text').alias('text'))\n",
    "    demo_udf_str=udf(lambda z: deEmojify(z), StringType())\n",
    "    df_pre_rm_dem=df_pre_rm_em.select(demo_udf_str('text').alias('text'))\n",
    "    sub_udf_float = udf(lambda z: getSubjectivity(z), FloatType())\n",
    "    pol_udf_float = udf(lambda z: getPolarity(z), FloatType())\n",
    "    df_sub_pol=df_pre_rm_dem.select(\"*\",sub_udf_float('text').alias('subjectivity'),pol_udf_float('text').alias('polarity'))\n",
    "    lab_udf_str=udf(lambda z: label_data(z), IntegerType())\n",
    "    df_final=df_sub_pol.select(\"*\",lab_udf_str('polarity').alias('label'))\n",
    "    df_pre_proced=df_final.select(\"text\",\"label\")\n",
    "    return df_pre_proced"
   ]
  },
  {
   "cell_type": "code",
   "execution_count": 12,
   "metadata": {},
   "outputs": [],
   "source": [
    "#Function to tokenize and remove the Stopwords\n",
    "def token_rmstp(df_preprocess):\n",
    "    tokenizer = Tokenizer(inputCol=\"text\", outputCol=\"words\")\n",
    "    wordsdata=tokenizer.transform(df_pre_proced)\n",
    "\n",
    "    #Removing Stop Words\n",
    "    stop_words_remover = StopWordsRemover(inputCol=\"words\", outputCol=\"words_cleaned\")\n",
    "    words_rmsw=stop_words_remover.transform(wordsdata)\n",
    "    return words_rmsw"
   ]
  },
  {
   "cell_type": "code",
   "execution_count": 13,
   "metadata": {},
   "outputs": [],
   "source": [
    "# Instantiate stemmer object\n",
    "stemmer = PorterStemmer()\n",
    "def stemming(text):\n",
    "    return [stemmer.stem(i) for i in text]"
   ]
  },
  {
   "cell_type": "code",
   "execution_count": 14,
   "metadata": {},
   "outputs": [],
   "source": [
    "#Function to get the data for NRC plots\n",
    "nrc_df= (sqlContext.read.format(\"csv\").option(\"header\", \"true\").load(\"/home/apalisetty1/data/nrc.csv\"))\n",
    "nrc_df.createOrReplaceTempView(\"nrc\")\n",
    "def nrc_plots(words_rmsw):\n",
    "        wrd_exp=words_rmsw.select(explode(words_rmsw.words_cleaned))\n",
    "        wrd_exp.createOrReplaceTempView(\"wrd_cnt\")\n",
    "        wrd_cnt=sqlContext.sql(\"select col,count(*) as cnt from wrd_cnt where length(col) !=0 group by col\")\n",
    "        wrd_cnt.createOrReplaceTempView(\"wrd_cnt\")\n",
    "        nrc_emt=sqlContext.sql(\"select n.emotion,count(*) as cnt from wrd_cnt w inner join nrc n on w.col=n.word where n.emotion not in('positive','negative')  and n.association=1 group by n.emotion\")\n",
    "        nrc_emt=nrc_emt.toPandas()\n",
    "        plt.figure(figsize=(10, 5))\n",
    "        sns.barplot(x=\"emotion\",y=\"cnt\",palette=\"deep\", data=nrc_emt)"
   ]
  },
  {
   "cell_type": "code",
   "execution_count": 15,
   "metadata": {},
   "outputs": [],
   "source": [
    "#Create temp views for all the data required for visualization\n",
    "tweetsDF = sqlContext.sql(\"SELECT country_code,REPLACE(text,'\\n','') as text_n FROM tweets where lang='en' and tweets.country_code='US' \")\n",
    "tweetsDF_Non = sqlContext.sql(\"SELECT country_code,REPLACE(text,'\\n','') as text_n FROM tweets where  tweets.country_code !='US' \")\n",
    "tweetsplaceDF = sqlContext.sql(\"SELECT *,REPLACE(text,'\\n',' ') as text_n FROM tweets\")\n",
    "tweetsamountDF = sqlContext.sql(\"SELECT place_full_name,count(*) as amount FROM tweets group by place_full_name order by amount desc LIMIT 10\")\n",
    "countryamountDF = sqlContext.sql(\"SELECT country_code,count(*) as amount  FROM tweets where country_code is not null  group by country_code  order by amount desc LIMIT 10\")"
   ]
  },
  {
   "cell_type": "code",
   "execution_count": 16,
   "metadata": {},
   "outputs": [
    {
     "data": {
      "text/plain": [
       "<matplotlib.axes._subplots.AxesSubplot at 0x7f2a0f009150>"
      ]
     },
     "execution_count": 16,
     "metadata": {},
     "output_type": "execute_result"
    },
    {
     "data": {
      "image/png": "[encoded data removed]",
      "text/plain": [
       "<Figure size 432x288 with 1 Axes>"
      ]
     },
     "metadata": {
      "needs_background": "light"
     },
     "output_type": "display_data"
    }
   ],
   "source": [
    "##Country wise tweets Plotting\n",
    "b = countryamountDF.toPandas()\n",
    "sns.barplot(x=\"country_code\", y=\"amount\", data=b)"
   ]
  },
  {
   "cell_type": "code",
   "execution_count": 17,
   "metadata": {},
   "outputs": [
    {
     "data": {
      "text/plain": [
       "<matplotlib.axes._subplots.AxesSubplot at 0x7f2a0dd15190>"
      ]
     },
     "execution_count": 17,
     "metadata": {},
     "output_type": "execute_result"
    },
    {
     "data": {
      "image/png": "[encoded data removed]",
      "text/plain": [
       "<Figure size 1080x360 with 1 Axes>"
      ]
     },
     "metadata": {
      "needs_background": "light"
     },
     "output_type": "display_data"
    }
   ],
   "source": [
    "##Places wise tweets Plotting\n",
    "a = tweetsamountDF.toPandas()\n",
    "plt.figure(figsize=(15, 5))\n",
    "sns.barplot(x=\"place_full_name\",y=\"amount\", data=a)"
   ]
  },
  {
   "cell_type": "code",
   "execution_count": 18,
   "metadata": {},
   "outputs": [
    {
     "data": {
      "image/png": "[encoded data removed]",
      "text/plain": [
       "<Figure size 720x360 with 1 Axes>"
      ]
     },
     "metadata": {
      "needs_background": "light"
     },
     "output_type": "display_data"
    }
   ],
   "source": [
    "## NRC for US countries\n",
    "df_pre_proced=data_preprocess(tweetsDF)\n",
    "words_rmsw=token_rmstp(df_pre_proced)\n",
    "nrc_plots(words_rmsw)"
   ]
  },
  {
   "cell_type": "code",
   "execution_count": 19,
   "metadata": {},
   "outputs": [
    {
     "data": {
      "image/png": "[encoded data removed]",
      "text/plain": [
       "<Figure size 720x360 with 1 Axes>"
      ]
     },
     "metadata": {
      "needs_background": "light"
     },
     "output_type": "display_data"
    }
   ],
   "source": [
    "#NRC for Non-US\n",
    "df_pre_proced=data_preprocess(tweetsDF_Non)\n",
    "words_rmsw=token_rmstp(df_pre_proced)\n",
    "nrc_plots(words_rmsw)"
   ]
  },
  {
   "cell_type": "code",
   "execution_count": 20,
   "metadata": {},
   "outputs": [
    {
     "data": {
      "text/plain": [
       "<matplotlib.axes._subplots.AxesSubplot at 0x7f2a0db88150>"
      ]
     },
     "execution_count": 20,
     "metadata": {},
     "output_type": "execute_result"
    },
    {
     "data": {
      "image/png": "[encoded data removed]",
      "text/plain": [
       "<Figure size 360x360 with 1 Axes>"
      ]
     },
     "metadata": {
      "needs_background": "light"
     },
     "output_type": "display_data"
    }
   ],
   "source": [
    "#Polarity Plotting\n",
    "df_pre_proced=data_preprocess(tweetsDF)\n",
    "label_viz=df_pre_proced.select(\"label\")\n",
    "label_viz.createOrReplaceTempView(\"label_viz\")\n",
    "label_viz=sqlContext.sql(\"select case when label=1 then 'positive' when label=2 then 'negative' when label=0 then 'neutral' end as label,count(*) as cnt from label_viz group by label\")\n",
    "label_viz=label_viz.toPandas()\n",
    "plt.figure(figsize=(5, 5))\n",
    "sns.barplot(x=\"label\",y=\"cnt\",palette=\"deep\", data=label_viz)"
   ]
  },
  {
   "cell_type": "code",
   "execution_count": 21,
   "metadata": {},
   "outputs": [],
   "source": [
    "#Processing starts here- From the tweetsDF data call the data preprocessing and tokenizing functions\n",
    "df_pre_proced=data_preprocess(tweetsDF)\n",
    "words_rmsw=token_rmstp(df_pre_proced)\n",
    "\n",
    "##Perform Stemming after the above process is done\n",
    "stem_udf_str=udf(lambda z: stemming(z), ArrayType(StringType()))\n",
    "df_final_stem=words_rmsw.select('label',stem_udf_str('words_cleaned').alias('words_cleaned'))"
   ]
  },
  {
   "cell_type": "code",
   "execution_count": 22,
   "metadata": {},
   "outputs": [],
   "source": [
    "## Using TF- IDF Features\n",
    "hashing_tf = HashingTF(inputCol = \"words_cleaned\", outputCol = \"frequency\")\n",
    "Hashingdata=hashing_tf.transform(words_rmsw)\n",
    "idf = IDF(inputCol = \"frequency\", outputCol = \"features\")\n",
    "idfdata=idf.fit(Hashingdata)\n",
    "rescaleddata=idfdata.transform(Hashingdata)\n",
    "df_final_data=rescaleddata.select(\"features\",\"label\")"
   ]
  },
  {
   "cell_type": "code",
   "execution_count": 23,
   "metadata": {},
   "outputs": [],
   "source": [
    "## Extracting Features using Count Vectorizer\n",
    "vectorizer = CountVectorizer(inputCol=\"words_cleaned\", outputCol=\"features\")\n",
    "model=vectorizer.fit(df_final_stem)\n",
    "result = model.transform(df_final_stem)\n",
    "df_final_data=result.select(\"features\",\"label\")"
   ]
  },
  {
   "cell_type": "code",
   "execution_count": 28,
   "metadata": {},
   "outputs": [
    {
     "name": "stdout",
     "output_type": "stream",
     "text": [
      "+----------------------------------------------------------------------------------------------------------------------------------------------------------------------------------------+-----+\n",
      "|features                                                                                                                                                                                |label|\n",
      "+----------------------------------------------------------------------------------------------------------------------------------------------------------------------------------------+-----+\n",
      "|(1666,[1,34,96,356,516,531,748,962,1069,1318],[1.0,1.0,1.0,1.0,1.0,1.0,1.0,1.0,1.0,1.0])                                                                                                |0    |\n",
      "|(1666,[0,69,71,75,103,203,332,424,592,800,1384],[1.0,1.0,1.0,1.0,1.0,1.0,1.0,1.0,1.0,1.0,1.0])                                                                                          |0    |\n",
      "|(1666,[0,4,46,152,170,185,211,287,302,438,745,1036,1089,1456,1520],[1.0,1.0,1.0,1.0,1.0,1.0,1.0,1.0,1.0,1.0,1.0,1.0,1.0,1.0,1.0])                                                       |1    |\n",
      "|(1666,[0,1,4,47,100,128,147,179,194,230,504,553,736,814,938,988,996,1120,1127,1192,1330],[1.0,1.0,1.0,1.0,1.0,1.0,1.0,1.0,1.0,1.0,1.0,1.0,1.0,1.0,1.0,1.0,1.0,1.0,1.0,1.0,1.0])         |0    |\n",
      "|(1666,[0,17,23,42,52,115,152,153,188,287,322,379,472,490,506,536,741,817,1201,1353,1565,1629],[1.0,2.0,2.0,1.0,1.0,1.0,1.0,1.0,1.0,1.0,1.0,1.0,1.0,1.0,1.0,1.0,1.0,1.0,1.0,1.0,1.0,1.0])|1    |\n",
      "+----------------------------------------------------------------------------------------------------------------------------------------------------------------------------------------+-----+\n",
      "only showing top 5 rows\n",
      "\n"
     ]
    }
   ],
   "source": [
    "df_final_data.show(5,truncate=False)"
   ]
  },
  {
   "cell_type": "code",
   "execution_count": 23,
   "metadata": {},
   "outputs": [],
   "source": [
    "#Stratified sampleing\n",
    "training_data=df_final_data.sampleBy(\"label\",fractions={0: 0.6, 1: 0.6, 2: 0.6})\n",
    "test_data=df_final_data.subtract(training_data)"
   ]
  },
  {
   "cell_type": "code",
   "execution_count": 24,
   "metadata": {},
   "outputs": [
    {
     "name": "stdout",
     "output_type": "stream",
     "text": [
      "+-----+----------+-----+\n",
      "|label|prediction|count|\n",
      "+-----+----------+-----+\n",
      "|    2|       1.0|  201|\n",
      "|    1|       0.0|   52|\n",
      "|    0|       2.0|   53|\n",
      "|    0|       0.0|  171|\n",
      "|    1|       2.0|   45|\n",
      "|    2|       2.0|  106|\n",
      "|    1|       1.0|  749|\n",
      "|    2|       0.0|   36|\n",
      "|    0|       1.0|  328|\n",
      "+-----+----------+-----+\n",
      "\n"
     ]
    }
   ],
   "source": [
    "#Naive Bayes\n",
    "naive_classifier = NaiveBayes(labelCol=\"label\", featuresCol=\"features\")\n",
    "naive_model = naive_classifier.fit(training_data)\n",
    "prediction = naive_model.transform(test_data)\n",
    "prediction.groupBy(\"label\", \"prediction\").count().show()"
   ]
  },
  {
   "cell_type": "code",
   "execution_count": 25,
   "metadata": {},
   "outputs": [],
   "source": [
    "evaluatorMulti = MulticlassClassificationEvaluator(labelCol=\"label\", predictionCol=\"prediction\")\n",
    "evaluator = BinaryClassificationEvaluator(labelCol=\"label\", rawPredictionCol=\"prediction\", metricName='areaUnderROC')"
   ]
  },
  {
   "cell_type": "code",
   "execution_count": 26,
   "metadata": {},
   "outputs": [],
   "source": [
    "# Make predicitons\n",
    "predictionAndTarget = naive_model.transform(test_data).select(\"label\", \"prediction\")"
   ]
  },
  {
   "cell_type": "code",
   "execution_count": 27,
   "metadata": {},
   "outputs": [],
   "source": [
    "# Get metrics\n",
    "acc = evaluatorMulti.evaluate(predictionAndTarget, {evaluatorMulti.metricName: \"accuracy\"})\n",
    "f1 = evaluatorMulti.evaluate(predictionAndTarget, {evaluatorMulti.metricName: \"f1\"})\n",
    "weightedPrecision = evaluatorMulti.evaluate(predictionAndTarget, {evaluatorMulti.metricName: \"weightedPrecision\"})\n",
    "weightedRecall = evaluatorMulti.evaluate(predictionAndTarget, {evaluatorMulti.metricName: \"weightedRecall\"})\n",
    "auc = evaluator.evaluate(predictionAndTarget)"
   ]
  },
  {
   "cell_type": "code",
   "execution_count": 28,
   "metadata": {},
   "outputs": [
    {
     "data": {
      "text/plain": [
       "0.5893164847788627"
      ]
     },
     "execution_count": 28,
     "metadata": {},
     "output_type": "execute_result"
    }
   ],
   "source": [
    "acc"
   ]
  },
  {
   "cell_type": "code",
   "execution_count": 29,
   "metadata": {},
   "outputs": [
    {
     "name": "stdout",
     "output_type": "stream",
     "text": [
      "accuracy: 0.5893164847788627\n",
      "f1: 0.5527721518712922\n",
      "weighted Precision: 0.5964906766527316\n",
      "weighted Recall: 0.5893164847788628\n",
      "weighted Recall: 0.6172592057629722\n"
     ]
    }
   ],
   "source": [
    "print(\"accuracy:\",acc)\n",
    "print(\"f1:\",f1)\n",
    "print(\"weighted Precision:\",weightedPrecision)\n",
    "print(\"weighted Recall:\",weightedRecall)\n",
    "print(\"weighted Recall:\",auc)"
   ]
  },
  {
   "cell_type": "code",
   "execution_count": 30,
   "metadata": {},
   "outputs": [
    {
     "data": {
      "text/plain": [
       "[<matplotlib.lines.Line2D at 0x7f35f60b4210>]"
      ]
     },
     "execution_count": 30,
     "metadata": {},
     "output_type": "execute_result"
    },
    {
     "data": {
      "image/png": "[encoded data removed]",
      "text/plain": [
       "<Figure size 432x288 with 1 Axes>"
      ]
     },
     "metadata": {
      "needs_background": "light"
     },
     "output_type": "display_data"
    }
   ],
   "source": [
    "#ROC Curve\n",
    "class CurveMetrics(BinaryClassificationMetrics):\n",
    "    def __init__(self, *args):\n",
    "        super(CurveMetrics, self).__init__(*args)\n",
    "\n",
    "    def _to_list(self, rdd):\n",
    "        points = []\n",
    "        # Note this collect could be inefficient for large datasets \n",
    "        # considering there may be one probability per datapoint (at most)\n",
    "        # The Scala version takes a numBins parameter, \n",
    "        # but it doesn't seem possible to pass this from Python to Java\n",
    "        for row in rdd.collect():\n",
    "            # Results are returned as type scala.Tuple2, \n",
    "            # which doesn't appear to have a py4j mapping\n",
    "            points += [(float(row._1()), float(row._2()))]\n",
    "        return points\n",
    "\n",
    "    def get_curve(self, method):\n",
    "        rdd = getattr(self._java_model, method)().toJavaRDD()\n",
    "        return self._to_list(rdd)\n",
    "preds = prediction.select('label','probability').rdd.map(lambda row: (float(row['probability'][1]), float(row['label'])))\n",
    "points = CurveMetrics(preds).get_curve('roc')\n",
    "plt.figure()\n",
    "x_val = [x[0] for x in points]\n",
    "y_val = [x[1] for x in points]\n",
    "plt.title(\"ROC\")\n",
    "plt.xlabel(\"False Positive Rate\")\n",
    "plt.ylabel(\"True Positive Rate\")\n",
    "plt.plot(x_val, y_val)"
   ]
  },
  {
   "cell_type": "code",
   "execution_count": null,
   "metadata": {},
   "outputs": [],
   "source": []
  }
 ],
 "metadata": {
  "kernelspec": {
   "display_name": "Python 3",
   "language": "python",
   "name": "python3"
  },
  "language_info": {
   "codemirror_mode": {
    "name": "ipython",
    "version": 3
   },
   "file_extension": ".py",
   "mimetype": "text/x-python",
   "name": "python",
   "nbconvert_exporter": "python",
   "pygments_lexer": "ipython3",
   "version": "3.7.6"
  }
 },
 "nbformat": 4,
 "nbformat_minor": 4
}
